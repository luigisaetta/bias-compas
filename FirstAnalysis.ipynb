{
 "cells": [
  {
   "cell_type": "markdown",
   "metadata": {},
   "source": [
    "### Exploratory Data Analysis (EDA) on COMPAS Dataset\n",
    "\n",
    "In this Notebook we start exploring the version of the COMPAS dataset modified for the AEquitas tutorial\n",
    "\n",
    "In this version have been computed label_value and score (field reqired by AEquitas)\n",
    "\n",
    "After some plot and explorations, we start analyzing (without AEquitas) the diffrents subgroups and we discover some first signs of BIAS."
   ]
  },
  {
   "cell_type": "code",
   "execution_count": 21,
   "metadata": {},
   "outputs": [],
   "source": [
    "import pandas as pd\n",
    "import numpy as np\n",
    "import matplotlib.pyplot as plt\n",
    "import seaborn as sns\n",
    "\n",
    "from sklearn.metrics import confusion_matrix\n",
    "\n",
    "sns.set()"
   ]
  },
  {
   "cell_type": "code",
   "execution_count": 2,
   "metadata": {},
   "outputs": [],
   "source": [
    "COMPAS_FILE = 'compas_for_aequitas.csv'\n",
    "\n",
    "compas_data = pd.read_csv(COMPAS_FILE)"
   ]
  },
  {
   "cell_type": "code",
   "execution_count": 3,
   "metadata": {},
   "outputs": [],
   "source": [
    "# helper functions\n",
    "def plot_histo_gender(df):\n",
    "    count_sex = df.groupby(['sex']).size()\n",
    "    \n",
    "    # plot\n",
    "    plt.title('Gender distribution')\n",
    "    plt.xlabel('Gender')\n",
    "    plt.ylabel('Count')\n",
    "    sns.barplot(y = count_sex.values, x  = ['Female','Male']);\n",
    "\n",
    "def plot_histo_race(df):\n",
    "    race_x = sorted(compas_data['race'].unique())\n",
    "    \n",
    "    # shorten label\n",
    "    N_CHARS = 8\n",
    "    race_x = [x[0:N_CHARS] for x in race_x]\n",
    "              \n",
    "    count_race = df.groupby(['race']).size()\n",
    "    \n",
    "    # plot\n",
    "    plt.title('Race distribution')\n",
    "    plt.xlabel('Race')\n",
    "    plt.ylabel('Count')\n",
    "    sns.barplot(y = count_race.values, x = race_x);\n",
    "    \n",
    "def plot_histo_ages(df):\n",
    "    # labels\n",
    "    age_x = ['25-45', '> 45', '< 25']\n",
    "              \n",
    "    count_age = df.groupby(['age_cat']).size()\n",
    "    \n",
    "    # plot\n",
    "    plt.title('Ages distribution')\n",
    "    plt.xlabel('Age')\n",
    "    plt.ylabel('Count')\n",
    "    sns.barplot(y = count_age.values, x = age_x);\n",
    "\n",
    "# now, lets compute FP and FN on subgroups\n",
    "\n",
    "def evaluate_on_race(df, race_group):\n",
    "    condition = (df['race'] == race_group)\n",
    "    \n",
    "    reduced_df = df[condition]\n",
    "    \n",
    "    conf_matrix = confusion_matrix(reduced_df['label_value'].values, reduced_df['score'].values)\n",
    "    \n",
    "    tn, fp, fn, tp = conf_matrix.ravel()\n",
    "    \n",
    "    return tn, fp, fn, tp\n",
    "\n",
    "def show_values(tn, fp, fn, tp):\n",
    "    total = tn + fp + fn + tp\n",
    "    print('Total population of the subgroup:', total)\n",
    "    print('')\n",
    "    print('TN:', tn, 'FP:', fp, 'FN:', fn, 'TP:', tp)\n",
    "    print('')\n",
    "    # rates\n",
    "    print('Total False positive rate is:', round(fp/float(total), 2))\n",
    "    print('Total False negative rate is:', round(fn/float(total), 2))"
   ]
  },
  {
   "cell_type": "code",
   "execution_count": 4,
   "metadata": {},
   "outputs": [
    {
     "name": "stdout",
     "output_type": "stream",
     "text": [
      "Total numer of samples in the dataset is: 7214\n"
     ]
    }
   ],
   "source": [
    "print('Total numer of samples in the dataset is:', compas_data.shape[0])"
   ]
  },
  {
   "cell_type": "code",
   "execution_count": 5,
   "metadata": {},
   "outputs": [
    {
     "data": {
      "text/html": [
       "<div>\n",
       "<style scoped>\n",
       "    .dataframe tbody tr th:only-of-type {\n",
       "        vertical-align: middle;\n",
       "    }\n",
       "\n",
       "    .dataframe tbody tr th {\n",
       "        vertical-align: top;\n",
       "    }\n",
       "\n",
       "    .dataframe thead th {\n",
       "        text-align: right;\n",
       "    }\n",
       "</style>\n",
       "<table border=\"1\" class=\"dataframe\">\n",
       "  <thead>\n",
       "    <tr style=\"text-align: right;\">\n",
       "      <th></th>\n",
       "      <th>entity_id</th>\n",
       "      <th>score</th>\n",
       "      <th>label_value</th>\n",
       "      <th>race</th>\n",
       "      <th>sex</th>\n",
       "      <th>age_cat</th>\n",
       "    </tr>\n",
       "  </thead>\n",
       "  <tbody>\n",
       "    <tr>\n",
       "      <th>0</th>\n",
       "      <td>1</td>\n",
       "      <td>0.0</td>\n",
       "      <td>0</td>\n",
       "      <td>Other</td>\n",
       "      <td>Male</td>\n",
       "      <td>Greater than 45</td>\n",
       "    </tr>\n",
       "    <tr>\n",
       "      <th>1</th>\n",
       "      <td>3</td>\n",
       "      <td>0.0</td>\n",
       "      <td>1</td>\n",
       "      <td>African-American</td>\n",
       "      <td>Male</td>\n",
       "      <td>25 - 45</td>\n",
       "    </tr>\n",
       "    <tr>\n",
       "      <th>2</th>\n",
       "      <td>4</td>\n",
       "      <td>0.0</td>\n",
       "      <td>1</td>\n",
       "      <td>African-American</td>\n",
       "      <td>Male</td>\n",
       "      <td>Less than 25</td>\n",
       "    </tr>\n",
       "    <tr>\n",
       "      <th>3</th>\n",
       "      <td>5</td>\n",
       "      <td>1.0</td>\n",
       "      <td>0</td>\n",
       "      <td>African-American</td>\n",
       "      <td>Male</td>\n",
       "      <td>Less than 25</td>\n",
       "    </tr>\n",
       "    <tr>\n",
       "      <th>4</th>\n",
       "      <td>6</td>\n",
       "      <td>0.0</td>\n",
       "      <td>0</td>\n",
       "      <td>Other</td>\n",
       "      <td>Male</td>\n",
       "      <td>25 - 45</td>\n",
       "    </tr>\n",
       "  </tbody>\n",
       "</table>\n",
       "</div>"
      ],
      "text/plain": [
       "   entity_id  score  label_value              race   sex          age_cat\n",
       "0          1    0.0            0             Other  Male  Greater than 45\n",
       "1          3    0.0            1  African-American  Male          25 - 45\n",
       "2          4    0.0            1  African-American  Male     Less than 25\n",
       "3          5    1.0            0  African-American  Male     Less than 25\n",
       "4          6    0.0            0             Other  Male          25 - 45"
      ]
     },
     "execution_count": 5,
     "metadata": {},
     "output_type": "execute_result"
    }
   ],
   "source": [
    "compas_data.head()"
   ]
  },
  {
   "cell_type": "code",
   "execution_count": 6,
   "metadata": {},
   "outputs": [],
   "source": [
    "# data have been already pre-preprocessed to be used with AEquitas. Original COMPAS score has been changed in a binary label\n",
    "# where 0 mean low risk of recidive in two years, 1 mean medium or high risk\n",
    "# label_value is what has actually happened in the next two years: 0 no crime, 1, yes another crime committed."
   ]
  },
  {
   "cell_type": "code",
   "execution_count": 7,
   "metadata": {},
   "outputs": [
    {
     "name": "stdout",
     "output_type": "stream",
     "text": [
      "The set of different categories for race is: ['African-American', 'Asian', 'Caucasian', 'Hispanic', 'Native American', 'Other']\n",
      "The set of different categories for gender is: ['Female', 'Male']\n",
      "The set of different categories for age is: ['25 - 45', 'Greater than 45', 'Less than 25']\n"
     ]
    }
   ],
   "source": [
    "# In our anlysis we can divide the population in groups, based on three category: race, sex and age (divied in bins)\n",
    "# lets see how many different values:\n",
    "print('The set of different categories for race is:', sorted(compas_data['race'].unique()))\n",
    "\n",
    "print('The set of different categories for gender is:', sorted(compas_data['sex'].unique()))\n",
    "\n",
    "print('The set of different categories for age is:', sorted(compas_data['age_cat'].unique()))"
   ]
  },
  {
   "cell_type": "code",
   "execution_count": 8,
   "metadata": {},
   "outputs": [],
   "source": [
    "# caucasian is in someway and old classification category, used in the past. BUt actually it means: white, of European, Middle Eastern, or North African ancestry. (see, wikipedia)"
   ]
  },
  {
   "cell_type": "code",
   "execution_count": 9,
   "metadata": {},
   "outputs": [],
   "source": [
    "# distribution of gender:"
   ]
  },
  {
   "cell_type": "code",
   "execution_count": 10,
   "metadata": {},
   "outputs": [
    {
     "data": {
      "image/png": "[encoded data removed]",
      "text/plain": [
       "<Figure size 432x288 with 1 Axes>"
      ]
     },
     "metadata": {},
     "output_type": "display_data"
    }
   ],
   "source": [
    "plot_histo_gender(compas_data)"
   ]
  },
  {
   "cell_type": "markdown",
   "metadata": {},
   "source": [
    "### the majority of people in the dataset is Male"
   ]
  },
  {
   "cell_type": "code",
   "execution_count": 11,
   "metadata": {},
   "outputs": [
    {
     "data": {
      "image/png": "[encoded data removed]",
      "text/plain": [
       "<Figure size 432x288 with 1 Axes>"
      ]
     },
     "metadata": {},
     "output_type": "display_data"
    }
   ],
   "source": [
    "plot_histo_race(compas_data)"
   ]
  },
  {
   "cell_type": "markdown",
   "metadata": {},
   "source": [
    "### The majority is Afro-american. Very few Asian and Native american"
   ]
  },
  {
   "cell_type": "code",
   "execution_count": 12,
   "metadata": {},
   "outputs": [],
   "source": [
    "# Asian and Native anerican are fery few (32, 18)"
   ]
  },
  {
   "cell_type": "code",
   "execution_count": 13,
   "metadata": {},
   "outputs": [
    {
     "data": {
      "image/png": "[encoded data removed]",
      "text/plain": [
       "<Figure size 432x288 with 1 Axes>"
      ]
     },
     "metadata": {},
     "output_type": "display_data"
    }
   ],
   "source": [
    " plot_histo_ages(compas_data)"
   ]
  },
  {
   "cell_type": "markdown",
   "metadata": {},
   "source": [
    "### The majority is in range: 25-45. Almost equal numbers for greater than 45 and less than 25. The last category is important because contains young people"
   ]
  },
  {
   "cell_type": "code",
   "execution_count": 14,
   "metadata": {},
   "outputs": [
    {
     "name": "stdout",
     "output_type": "stream",
     "text": [
      "Overall accuracy is: 0.65\n"
     ]
    }
   ],
   "source": [
    "# compute global accuracy of the model\n",
    "\n",
    "condition = compas_data['score'] == compas_data['label_value']\n",
    "\n",
    "# contains only samples for which prediction == label\n",
    "df_ok = compas_data[condition]\n",
    "\n",
    "accuracy = round(df_ok.shape[0]/float(compas_data.shape[0]), 2)\n",
    "\n",
    "print('Overall accuracy is:', accuracy)"
   ]
  },
  {
   "cell_type": "code",
   "execution_count": 15,
   "metadata": {},
   "outputs": [],
   "source": [
    "### a first remark: on the entire dataset the accuracy is not high: 62%"
   ]
  },
  {
   "cell_type": "code",
   "execution_count": 16,
   "metadata": {},
   "outputs": [
    {
     "name": "stdout",
     "output_type": "stream",
     "text": [
      "Total population is: 7214\n",
      "\n",
      "TN: 2681 FP: 1282 FN: 1216 TP: 2035\n",
      "\n",
      "Total False positive rate is: 0.18\n",
      "Total False negative rate is: 0.17\n"
     ]
    }
   ],
   "source": [
    "conf_matrix = confusion_matrix(compas_data['label_value'].values, compas_data['score'].values)\n",
    "    \n",
    "tn, fp, fn, tp = conf_matrix.ravel()\n",
    "\n",
    "total = tn + fp + fn + tp\n",
    "print('Total population is:', total)\n",
    "print('')\n",
    "print('TN:', tn, 'FP:', fp, 'FN:', fn, 'TP:', tp)\n",
    "print('')\n",
    "# rates\n",
    "print('Total False positive rate is:', round(fp/float(total), 2))\n",
    "print('Total False negative rate is:', round(fn/float(total), 2))"
   ]
  },
  {
   "cell_type": "code",
   "execution_count": 17,
   "metadata": {},
   "outputs": [
    {
     "data": {
      "image/png": "[encoded data removed]",
      "text/plain": [
       "<Figure size 432x288 with 2 Axes>"
      ]
     },
     "metadata": {},
     "output_type": "display_data"
    }
   ],
   "source": [
    "# plot the confusion matrix\n",
    "sns.heatmap(conf_matrix, annot=True, cmap='Blues', fmt='4');"
   ]
  },
  {
   "cell_type": "markdown",
   "metadata": {},
   "source": [
    "## Let's start our BIAS analysis"
   ]
  },
  {
   "cell_type": "markdown",
   "metadata": {},
   "source": [
    "### Analyze different subgroups based on race"
   ]
  },
  {
   "cell_type": "code",
   "execution_count": 18,
   "metadata": {},
   "outputs": [
    {
     "name": "stdout",
     "output_type": "stream",
     "text": [
      "African-American\n",
      "\n",
      "Total population of the subgroup: 3696\n",
      "\n",
      "TN: 990 FP: 805 FN: 532 TP: 1369\n",
      "\n",
      "Total False positive rate is: 0.22\n",
      "Total False negative rate is: 0.14\n"
     ]
    }
   ],
   "source": [
    "# Afro-american\n",
    "race = 'African-American'\n",
    "\n",
    "tn, fp, fn, tp = evaluate_on_race(compas_data, race)\n",
    "\n",
    "print(race)\n",
    "print('')\n",
    "\n",
    "show_values(tn, fp, fn, tp)"
   ]
  },
  {
   "cell_type": "code",
   "execution_count": 19,
   "metadata": {},
   "outputs": [
    {
     "name": "stdout",
     "output_type": "stream",
     "text": [
      "Caucasian\n",
      "\n",
      "Total population of the subgroup: 2454\n",
      "\n",
      "TN: 1139 FP: 349 FN: 461 TP: 505\n",
      "\n",
      "Total False positive rate is: 0.14\n",
      "Total False negative rate is: 0.19\n"
     ]
    }
   ],
   "source": [
    "# Caucasian\n",
    "\n",
    "race = 'Caucasian'\n",
    "\n",
    "tn, fp, fn, tp = evaluate_on_race(compas_data, race)\n",
    "\n",
    "print(race)\n",
    "print('')\n",
    "\n",
    "show_values(tn, fp, fn, tp)"
   ]
  },
  {
   "cell_type": "code",
   "execution_count": 20,
   "metadata": {},
   "outputs": [
    {
     "name": "stdout",
     "output_type": "stream",
     "text": [
      "Hispanic\n",
      "\n",
      "Total population of the subgroup: 637\n",
      "\n",
      "TN: 318 FP: 87 FN: 129 TP: 103\n",
      "\n",
      "Total False positive rate is: 0.14\n",
      "Total False negative rate is: 0.2\n"
     ]
    }
   ],
   "source": [
    "# Hispanic\n",
    "\n",
    "race = 'Hispanic'\n",
    "\n",
    "tn, fp, fn, tp = evaluate_on_race(compas_data, race)\n",
    "\n",
    "print(race)\n",
    "print('')\n",
    "\n",
    "show_values(tn, fp, fn, tp)"
   ]
  },
  {
   "cell_type": "markdown",
   "metadata": {},
   "source": [
    "### We have a first interesting result here:\n",
    "\n",
    "The **False Positive** rate is\n",
    "\n",
    "* 0.14 for Caucasian\n",
    "* 0.14 for Hispanic\n",
    "* **0.22** for Afro-american\n",
    "\n",
    "The **False Positive rate** is 1.6 **higher** in Afro-american than Caucasian.\n",
    "\n",
    "False Positive means that an individual has been evaluated with COMPAS, the software has predicted that he was medium-high risk of repeating a crime but, actually, in the next two years he has NOT committed any crime. \n",
    "\n",
    "This is a sign of BIAS in the predictive model."
   ]
  },
  {
   "cell_type": "code",
   "execution_count": null,
   "metadata": {},
   "outputs": [],
   "source": []
  }
 ],
 "metadata": {
  "kernelspec": {
   "display_name": "Python 3",
   "language": "python",
   "name": "python3"
  },
  "language_info": {
   "codemirror_mode": {
    "name": "ipython",
    "version": 3
   },
   "file_extension": ".py",
   "mimetype": "text/x-python",
   "name": "python",
   "nbconvert_exporter": "python",
   "pygments_lexer": "ipython3",
   "version": "3.7.9"
  }
 },
 "nbformat": 4,
 "nbformat_minor": 4
}
